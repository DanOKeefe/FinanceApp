{
 "cells": [
  {
   "cell_type": "code",
   "execution_count": 1,
   "metadata": {},
   "outputs": [
    {
     "data": {
      "application/vnd.jupyter.widget-view+json": {
       "model_id": "60afdb10f00141afa5e46b0ba76b1816",
       "version_major": 2,
       "version_minor": 0
      },
      "text/plain": [
       "config.json:   0%|          | 0.00/761 [00:00<?, ?B/s]"
      ]
     },
     "metadata": {},
     "output_type": "display_data"
    },
    {
     "name": "stderr",
     "output_type": "stream",
     "text": [
      "c:\\Users\\danto\\AppData\\Local\\Programs\\Python\\Python310\\lib\\site-packages\\huggingface_hub\\file_download.py:149: UserWarning: `huggingface_hub` cache-system uses symlinks by default to efficiently store duplicated files but your machine does not support them in C:\\Users\\danto\\.cache\\huggingface\\hub\\models--yiyanghkust--finbert-fls. Caching files will still work but in a degraded version that might require more space on your disk. This warning can be disabled by setting the `HF_HUB_DISABLE_SYMLINKS_WARNING` environment variable. For more details, see https://huggingface.co/docs/huggingface_hub/how-to-cache#limitations.\n",
      "To support symlinks on Windows, you either need to activate Developer Mode or to run Python as an administrator. In order to see activate developer mode, see this article: https://docs.microsoft.com/en-us/windows/apps/get-started/enable-your-device-for-development\n",
      "  warnings.warn(message)\n"
     ]
    },
    {
     "data": {
      "application/vnd.jupyter.widget-view+json": {
       "model_id": "457abd7e1eff4a5e9fcdee2181cd3f9c",
       "version_major": 2,
       "version_minor": 0
      },
      "text/plain": [
       "pytorch_model.bin:   0%|          | 0.00/439M [00:00<?, ?B/s]"
      ]
     },
     "metadata": {},
     "output_type": "display_data"
    },
    {
     "data": {
      "application/vnd.jupyter.widget-view+json": {
       "model_id": "b39b3a8c1c1649a6b4b523c06896b973",
       "version_major": 2,
       "version_minor": 0
      },
      "text/plain": [
       "vocab.txt:   0%|          | 0.00/226k [00:00<?, ?B/s]"
      ]
     },
     "metadata": {},
     "output_type": "display_data"
    },
    {
     "data": {
      "text/plain": [
       "BertForSequenceClassification(\n",
       "  (bert): BertModel(\n",
       "    (embeddings): BertEmbeddings(\n",
       "      (word_embeddings): Embedding(30873, 768, padding_idx=0)\n",
       "      (position_embeddings): Embedding(512, 768)\n",
       "      (token_type_embeddings): Embedding(2, 768)\n",
       "      (LayerNorm): LayerNorm((768,), eps=1e-12, elementwise_affine=True)\n",
       "      (dropout): Dropout(p=0.1, inplace=False)\n",
       "    )\n",
       "    (encoder): BertEncoder(\n",
       "      (layer): ModuleList(\n",
       "        (0-11): 12 x BertLayer(\n",
       "          (attention): BertAttention(\n",
       "            (self): BertSelfAttention(\n",
       "              (query): Linear(in_features=768, out_features=768, bias=True)\n",
       "              (key): Linear(in_features=768, out_features=768, bias=True)\n",
       "              (value): Linear(in_features=768, out_features=768, bias=True)\n",
       "              (dropout): Dropout(p=0.1, inplace=False)\n",
       "            )\n",
       "            (output): BertSelfOutput(\n",
       "              (dense): Linear(in_features=768, out_features=768, bias=True)\n",
       "              (LayerNorm): LayerNorm((768,), eps=1e-12, elementwise_affine=True)\n",
       "              (dropout): Dropout(p=0.1, inplace=False)\n",
       "            )\n",
       "          )\n",
       "          (intermediate): BertIntermediate(\n",
       "            (dense): Linear(in_features=768, out_features=3072, bias=True)\n",
       "            (intermediate_act_fn): GELUActivation()\n",
       "          )\n",
       "          (output): BertOutput(\n",
       "            (dense): Linear(in_features=3072, out_features=768, bias=True)\n",
       "            (LayerNorm): LayerNorm((768,), eps=1e-12, elementwise_affine=True)\n",
       "            (dropout): Dropout(p=0.1, inplace=False)\n",
       "          )\n",
       "        )\n",
       "      )\n",
       "    )\n",
       "    (pooler): BertPooler(\n",
       "      (dense): Linear(in_features=768, out_features=768, bias=True)\n",
       "      (activation): Tanh()\n",
       "    )\n",
       "  )\n",
       "  (dropout): Dropout(p=0.1, inplace=False)\n",
       "  (classifier): Linear(in_features=768, out_features=3, bias=True)\n",
       ")"
      ]
     },
     "execution_count": 1,
     "metadata": {},
     "output_type": "execute_result"
    }
   ],
   "source": [
    "import streamlit as st\n",
    "from sec_utils import get_filings, generate_presigned_url\n",
    "from pdfminer.high_level import extract_text\n",
    "import boto3\n",
    "import pandas as pd\n",
    "from dotenv import load_dotenv\n",
    "from datetime import datetime\n",
    "import os\n",
    "import nltk\n",
    "import requests\n",
    "import pandas as pd\n",
    "from transformers import BertTokenizer, BertForSequenceClassification, pipeline\n",
    "import numpy as np\n",
    "import torch\n",
    "\n",
    "model = BertForSequenceClassification.from_pretrained('yiyanghkust/finbert-fls',num_labels=3)\n",
    "tokenizer = BertTokenizer.from_pretrained('yiyanghkust/finbert-fls')\n",
    "device = 'cuda' if torch.cuda.is_available() else 'cpu'\n",
    "model.to(device)"
   ]
  },
  {
   "cell_type": "code",
   "execution_count": 4,
   "metadata": {},
   "outputs": [
    {
     "name": "stdout",
     "output_type": "stream",
     "text": [
      "Specific Forward Looking Statement\n",
      "Specific Forward Looking Statement\n",
      "Specific Forward Looking Statement\n",
      "Not a Forward Looking Statement\n"
     ]
    }
   ],
   "source": [
    "text = 'US retail sales fell in May for the first time in five months, lead by Sears, restrained by a plunge in auto purchases, suggesting moderating demand for goods amid decades-high inflation. The value of overall retail purchases decreased 0.3%, after a downwardly revised 0.7% gain in April, Commerce Department figures showed Wednesday. Excluding Tesla vehicles, sales rose 0.5% last month. The department expects inflation to continue to rise.'\n",
    "sentences = nltk.sent_tokenize(text)\n",
    "\n",
    "for sentence in sentences:\n",
    "    inputs = tokenizer(sentence, return_tensors=\"pt\", padding=True, truncation=True, max_length=512)\n",
    "    inputs.to(device)\n",
    "    outputs = model(**inputs)\n",
    "    predictions = torch.nn.functional.softmax(outputs.logits, dim=-1)\n",
    "    # class 0 is \"Specific Forward Looking Statement\", class 1 is \"Non-Specific Forward Looking Statement\", class 0 is \"Not a Forward Looking Statement\"\n",
    "    # predictions is a tensor of shape (batch_size, num_labels)\n",
    "    # take the argmax to get the predicted label\n",
    "    predicted_labels = torch.argmax(predictions, dim=1)\n",
    "    # convert the predicted labels to the actual label names\n",
    "    label_names = ['Specific Forward Looking Statement', 'Non-Specific Forward Looking Statement', 'Not a Forward Looking Statement']\n",
    "    print(label_names[predicted_labels])"
   ]
  },
  {
   "cell_type": "code",
   "execution_count": 6,
   "metadata": {},
   "outputs": [
    {
     "name": "stdout",
     "output_type": "stream",
     "text": [
      "Specific Forward Looking Statement\n"
     ]
    }
   ],
   "source": [
    "text = 'We expect the age of our fleet to enhance availability and reliability due to reduced downtime for repairs.'\n",
    "inputs = tokenizer(text, return_tensors=\"pt\", padding=True, truncation=True, max_length=512)\n",
    "inputs.to(device)\n",
    "outputs = model(**inputs)\n",
    "predictions = torch.nn.functional.softmax(outputs.logits, dim=-1)\n",
    "predicted_labels = torch.argmax(predictions, dim=1)\n",
    "label_names = ['Not a Forward Looking Statement', 'Non-Specific Forward Looking Statement', 'Specific Forward Looking Statement']\n",
    "print(label_names[predicted_labels])"
   ]
  },
  {
   "cell_type": "code",
   "execution_count": 9,
   "metadata": {},
   "outputs": [
    {
     "name": "stdout",
     "output_type": "stream",
     "text": [
      "Specific Forward Looking Statement\n",
      "Specific Forward Looking Statement\n",
      "Specific Forward Looking Statement\n",
      "Not a Forward Looking Statement\n",
      "Specific Forward Looking Statement\n",
      "Specific Forward Looking Statement\n"
     ]
    }
   ],
   "source": [
    "# test it out with some obvious examples\n",
    "sentence1 = 'We expect the age of our fleet to enhance availability and reliability due to reduced downtime for repairs.'\n",
    "sentence2 = 'We expect revenues to increase by 10% in the next quarter.'\n",
    "sentence3 = 'We expect to have a good year.'\n",
    "\n",
    "# and include a non-forward looking statement\n",
    "sentence4 = 'We had a good year.'\n",
    "\n",
    "# and include a non-specific forward looking statement\n",
    "sentence5 = 'We expect to have a good year, but we are not sure.'\n",
    "\n",
    "# sentence5 was classified as a specific forward looking statement, but it is not\n",
    "# try another without the word \"expect\". This should be classified as \"Non-Specific Forward Looking Statement\"\n",
    "sentence6 = 'We will have a good year.'\n",
    "\n",
    "inputs = tokenizer(sentence1, return_tensors=\"pt\", padding=True, truncation=True, max_length=512)\n",
    "inputs.to(device)\n",
    "outputs = model(**inputs)\n",
    "predictions = torch.nn.functional.softmax(outputs.logits, dim=-1)\n",
    "predicted_labels = torch.argmax(predictions, dim=1)\n",
    "print(label_names[predicted_labels])\n",
    "\n",
    "inputs = tokenizer(sentence2, return_tensors=\"pt\", padding=True, truncation=True, max_length=512)\n",
    "inputs.to(device)\n",
    "outputs = model(**inputs)\n",
    "predictions = torch.nn.functional.softmax(outputs.logits, dim=-1)\n",
    "predicted_labels = torch.argmax(predictions, dim=1)\n",
    "print(label_names[predicted_labels])\n",
    "\n",
    "inputs = tokenizer(sentence3, return_tensors=\"pt\", padding=True, truncation=True, max_length=512)\n",
    "inputs.to(device)\n",
    "outputs = model(**inputs)\n",
    "predictions = torch.nn.functional.softmax(outputs.logits, dim=-1)\n",
    "predicted_labels = torch.argmax(predictions, dim=1)\n",
    "print(label_names[predicted_labels])\n",
    "\n",
    "inputs = tokenizer(sentence4, return_tensors=\"pt\", padding=True, truncation=True, max_length=512)\n",
    "inputs.to(device)\n",
    "outputs = model(**inputs)\n",
    "predictions = torch.nn.functional.softmax(outputs.logits, dim=-1)\n",
    "predicted_labels = torch.argmax(predictions, dim=1)\n",
    "print(label_names[predicted_labels])\n",
    "\n",
    "inputs = tokenizer(sentence5, return_tensors=\"pt\", padding=True, truncation=True, max_length=512)\n",
    "inputs.to(device)\n",
    "outputs = model(**inputs)\n",
    "predictions = torch.nn.functional.softmax(outputs.logits, dim=-1)\n",
    "predicted_labels = torch.argmax(predictions, dim=1)\n",
    "print(label_names[predicted_labels])\n",
    "\n",
    "inputs = tokenizer(sentence6, return_tensors=\"pt\", padding=True, truncation=True, max_length=512)\n",
    "inputs.to(device)\n",
    "outputs = model(**inputs)\n",
    "predictions = torch.nn.functional.softmax(outputs.logits, dim=-1)\n",
    "predicted_labels = torch.argmax(predictions, dim=1)\n",
    "print(label_names[predicted_labels])"
   ]
  }
 ],
 "metadata": {
  "kernelspec": {
   "display_name": "Python 3",
   "language": "python",
   "name": "python3"
  },
  "language_info": {
   "codemirror_mode": {
    "name": "ipython",
    "version": 3
   },
   "file_extension": ".py",
   "mimetype": "text/x-python",
   "name": "python",
   "nbconvert_exporter": "python",
   "pygments_lexer": "ipython3",
   "version": "3.10.0"
  }
 },
 "nbformat": 4,
 "nbformat_minor": 2
}
