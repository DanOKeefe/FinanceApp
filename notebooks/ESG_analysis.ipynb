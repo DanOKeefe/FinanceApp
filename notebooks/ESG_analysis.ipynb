{
 "cells": [
  {
   "cell_type": "code",
   "execution_count": 1,
   "metadata": {},
   "outputs": [
    {
     "name": "stderr",
     "output_type": "stream",
     "text": [
      "c:\\Users\\danto\\AppData\\Local\\Programs\\Python\\Python310\\lib\\site-packages\\torch\\_utils.py:831: UserWarning: TypedStorage is deprecated. It will be removed in the future and UntypedStorage will be the only storage class. This should only matter to you if you are using storages directly.  To access UntypedStorage directly, use tensor.untyped_storage() instead of tensor.storage()\n",
      "  return self.fget.__get__(instance, owner)()\n"
     ]
    }
   ],
   "source": [
    "from transformers import BertTokenizer, BertForSequenceClassification, pipeline\n",
    "\n",
    "# finebert fine-tuned on 2000 annotated sentences from the ESG domain\n",
    "# four categories: environment, social, governance, and non-ESG\n",
    "finbert = BertForSequenceClassification.from_pretrained('yiyanghkust/finbert-esg-9-categories',num_labels=9)\n",
    "tokenizer = BertTokenizer.from_pretrained(\n",
    "    'yiyanghkust/finbert-esg-9-categories',\n",
    ")\n",
    "\n",
    "import torch\n",
    "\n",
    "device = torch.device('cuda' if torch.cuda.is_available() else 'cpu')\n",
    "finbert.to(device)\n",
    "class_labels = ['Climate Change', 'Natural Capital', 'Pollution & Waste',\n",
    "                'Human Capital', 'Product Liability', 'Community Relations',\n",
    "                'Corporate Governance', 'Business Ethics & Values', 'Non-ESG']\n",
    "\n",
    "sentence = 'For 2002, our total net emissions were approximately 60 million metric tons of CO2 equivalents for all businesses and operations we have ﬁnancial interests in, based on its equity share in those businesses and operations.'\n",
    "inputs = tokenizer(sentence, return_tensors='pt', padding=True, truncation=True, max_length=512)"
   ]
  },
  {
   "cell_type": "code",
   "execution_count": 5,
   "metadata": {},
   "outputs": [
    {
     "name": "stdout",
     "output_type": "stream",
     "text": [
      "tensor([[ 6.9215, -0.4468,  0.0691, -1.1357, -0.9401, -1.2870, -0.0733, -1.2235,\n",
      "         -0.5228]], device='cuda:0', grad_fn=<AddmmBackward0>)\n",
      "[9.9556559e-01 6.2816904e-04 1.0522981e-03 3.1543022e-04 3.8357917e-04\n",
      " 2.7113734e-04 9.1263442e-04 2.8890101e-04 5.8221794e-04]\n",
      "Climate Change\n"
     ]
    }
   ],
   "source": [
    "inputs.to(device)\n",
    "\n",
    "outputs = finbert(**inputs)\n",
    "print(outputs.logits)\n",
    "# put logits through softmax to get probabilities\n",
    "print(torch.nn.functional.softmax(outputs.logits, dim=1).detach().cpu().numpy().flatten())\n",
    "class_predictions = torch.argmax(outputs.logits, dim=1)\n",
    "print(class_labels[class_predictions])"
   ]
  }
 ],
 "metadata": {
  "kernelspec": {
   "display_name": "Python 3",
   "language": "python",
   "name": "python3"
  },
  "language_info": {
   "codemirror_mode": {
    "name": "ipython",
    "version": 3
   },
   "file_extension": ".py",
   "mimetype": "text/x-python",
   "name": "python",
   "nbconvert_exporter": "python",
   "pygments_lexer": "ipython3",
   "version": "3.10.0"
  }
 },
 "nbformat": 4,
 "nbformat_minor": 2
}
