{
 "cells": [
  {
   "cell_type": "code",
   "execution_count": 1,
   "metadata": {},
   "outputs": [],
   "source": [
    "import os\n",
    "import openai\n",
    "from sec_api import QueryApi\n",
    "import boto3\n",
    "from pdfminer.high_level import extract_text\n",
    "from datetime import datetime\n",
    "import uuid\n",
    "import requests\n",
    "\n",
    "from models.models import SECFiling\n",
    "\n",
    "from dotenv import load_dotenv\n",
    "load_dotenv()\n",
    "\n",
    "\n",
    "sec_client = QueryApi(api_key=os.environ['SEC_API_KEY'])\n",
    "openai.api_key = os.environ['OPENAI_API_KEY']"
   ]
  },
  {
   "cell_type": "markdown",
   "metadata": {},
   "source": [
    "The company https://sec-api.io/ offers an API for retrieving SEC filings, including the files.\n",
    "\n",
    "They have their own Python client for interacting with thier API. It's the QueryApi class.\n",
    "There are a few examples of using it here in their documentation: https://sec-api.io/docs/query-api/python-example"
   ]
  },
  {
   "cell_type": "code",
   "execution_count": 3,
   "metadata": {},
   "outputs": [],
   "source": [
    "def write_to_s3(bucket_name, file_name, object_name):\n",
    "    s3_client = boto3.client('s3')\n",
    "    s3_client.upload_file(file_name, bucket_name, object_name)\n",
    "    s3_url = f'https://{bucket_name}.s3.amazonaws.com/{object_name}'\n",
    "    return s3_url\n",
    "\n",
    "def write_to_filings_table(sec_filing: SECFiling):\n",
    "    \"\"\"\n",
    "    Write metadata about a document to a documents collection in DynamoDB\n",
    "    Accepts an SECFiling object and writes it to the documents table\n",
    "    \"\"\"\n",
    "    dynamodb = boto3.resource('dynamodb')\n",
    "    table = dynamodb.Table('filings')\n",
    "\n",
    "    item = sec_filing.dict()\n",
    "    for key, value in item.items():\n",
    "        if isinstance(value, datetime):\n",
    "            item[key] = value.strftime('%Y-%m-%d %H:%M:%S')\n",
    "        elif not isinstance(value, str):\n",
    "            item[key] = str(value)\n",
    "\n",
    "    table.put_item(Item=item)\n",
    "\n",
    "def get_text_from_pdf(file_path):\n",
    "    text = extract_text(file_path)\n",
    "    return text\n",
    "\n",
    "def get_filings(ticker, start_date, end_date, form_type, limit=10000):\n",
    "    \"\"\"\n",
    "    state_date and end_date filter on the filedAt field. Should be in the format \"YYYY-MM-DD\"\n",
    "    form_type is the type of filing to retrieve. For example, \"10-Q\" or \"10-K\" https://sec-api.io/list-of-sec-filing-types\n",
    "    \"\"\"\n",
    "    # Retrieve filings metadata\n",
    "    # iterate through the filings and download the filing as a PDF\n",
    "    # use get_text_from_pdf to extract the text from the PDF\n",
    "    # upload the PDF to S3\n",
    "    # create a new SECFiling object and write it to the database\n",
    "\n",
    "    query = {\n",
    "        \"query\": { \"query_string\": { \n",
    "            \"query\": f\"ticker:{ticker} AND filedAt:[{start_date} TO {end_date}] AND formType:\\\"{form_type}\\\"\",\n",
    "            \"time_zone\": \"America/New_York\"\n",
    "        } },\n",
    "        \"from\": \"0\",\n",
    "        \"size\": f\"{limit}\",\n",
    "        \"sort\": [{ \"filedAt\": { \"order\": \"desc\" } }]\n",
    "    }\n",
    "\n",
    "    headers = {'Authorization': os.environ['SEC_API_KEY']}\n",
    "    filings = sec_client.get_filings(query)\n",
    "    for filing in filings['filings']:\n",
    "        cik = filing['cik']\n",
    "        accession_number = filing['accessionNo'].replace('-', '')\n",
    "        filename = filing['linkToTxt'].split('/')[-1]\n",
    "\n",
    "        # # iterate through the documentFormatFiles and identify the document that represents the 10-Q\n",
    "        # 'type': '10-Q'\n",
    "        # and we want the documentUrl field from this document. This ithe the url that should be sent to the pdf generator.\n",
    "\n",
    "        for doc in filing['documentFormatFiles']:\n",
    "            if doc['type'] == form_type:\n",
    "                doc_url = doc['documentUrl']\n",
    "                break\n",
    "\n",
    "        # download the filing as a PDF instead of a text file\n",
    "        url = f'https://api.sec-api.io/filing-reader/?token={os.environ[\"SEC_API_KEY\"]}&type=pdf&url={doc_url}'\n",
    "        response = requests.get(url)\n",
    "        filename = f'{filing[\"accessionNo\"]}.pdf'\n",
    "        with open(filename, 'wb') as f:\n",
    "            f.write(response.content)\n",
    "\n",
    "        object_name = f'{filing[\"ticker\"]}/{filing[\"formType\"]}/{filing[\"filedAt\"]}/{filename}'\n",
    "        s3_url = write_to_s3(bucket_name='dto-sec-filings', file_name=filename, object_name=object_name)\n",
    "        os.remove(filename)\n",
    "        sec_filing = SECFiling(\n",
    "            id = str(uuid.uuid4()),\n",
    "            accessionNo=filing['accessionNo'],\n",
    "            cik=filing['cik'],\n",
    "            ticker=filing['ticker'],\n",
    "            companyName=filing['companyName'],\n",
    "            companyNameLong=filing['companyNameLong'],\n",
    "            formType=filing['formType'],\n",
    "            periodOfReport=filing['periodOfReport'],\n",
    "            description=filing['description'],\n",
    "            filedAt=filing['filedAt'],\n",
    "            linkToTxt=filing['linkToTxt'],\n",
    "            linkToHtml=filing['linkToHtml'],\n",
    "            linkToXbrl=filing['linkToXbrl'],\n",
    "            linkToFilingDetails=filing['linkToFilingDetails'],\n",
    "            s3Url=s3_url,\n",
    "            secDocumentUrl=doc_url\n",
    "        )\n",
    "        write_to_filings_table(sec_filing)"
   ]
  },
  {
   "cell_type": "code",
   "execution_count": 12,
   "metadata": {},
   "outputs": [
    {
     "name": "stdout",
     "output_type": "stream",
     "text": [
      "doc_url https://www.sec.gov/ix?doc=/Archives/edgar/data/51143/000155837021014734/ibm-20210930x10q.htm\n",
      "200\n"
     ]
    }
   ],
   "source": [
    "get_filings('IBM', '2020-01-01', '2021-12-31', '10-Q', 1)"
   ]
  },
  {
   "cell_type": "code",
   "execution_count": null,
   "metadata": {},
   "outputs": [],
   "source": [
    "# iterate through the documentFormatFiles and identify the document that represents the 10-Q\n",
    "# 'type': '10-Q'\n",
    "# and we want the documentUrl field from this document. This ithe the url that should be sent to the pdf generator."
   ]
  },
  {
   "cell_type": "code",
   "execution_count": 6,
   "metadata": {},
   "outputs": [
    {
     "name": "stdout",
     "output_type": "stream",
     "text": [
      "doc_url https://www.sec.gov/ix?doc=/Archives/edgar/data/50863/000005086324000010/intc-20231230.htm\n",
      "200\n",
      "doc_url https://www.sec.gov/ix?doc=/Archives/edgar/data/50863/000005086323000006/intc-20221231.htm\n",
      "200\n",
      "doc_url https://www.sec.gov/ix?doc=/Archives/edgar/data/50863/000005086322000007/intc-20211225.htm\n",
      "200\n",
      "doc_url https://www.sec.gov/ix?doc=/Archives/edgar/data/50863/000005086321000010/intc-20201226.htm\n",
      "200\n",
      "doc_url https://www.sec.gov/ix?doc=/Archives/edgar/data/50863/000005086320000011/a12282019q4-10kdocument.htm\n",
      "200\n"
     ]
    }
   ],
   "source": [
    "# get the last 5 10-K filings for INTC\n",
    "get_filings('INTC', '2017-01-01', '2024-12-31', '10-K', 5)\n"
   ]
  },
  {
   "cell_type": "code",
   "execution_count": 7,
   "metadata": {},
   "outputs": [
    {
     "name": "stdout",
     "output_type": "stream",
     "text": [
      "200\n"
     ]
    }
   ],
   "source": [
    "# get the last 5 10-K filings for XOM\n",
    "get_filings('XOM', '2017-01-01', '2024-12-31', '10-K', 1)"
   ]
  },
  {
   "cell_type": "code",
   "execution_count": 13,
   "metadata": {},
   "outputs": [
    {
     "name": "stdout",
     "output_type": "stream",
     "text": [
      "doc_url https://www.sec.gov/ix?doc=/Archives/edgar/data/1403161/000140316123000099/v-20230930.htm\n",
      "200\n",
      "doc_url https://www.sec.gov/ix?doc=/Archives/edgar/data/1403161/000140316122000081/v-20220930.htm\n",
      "200\n",
      "doc_url https://www.sec.gov/ix?doc=/Archives/edgar/data/1403161/000140316121000060/v-20210930.htm\n",
      "200\n",
      "doc_url https://www.sec.gov/ix?doc=/Archives/edgar/data/1403161/000140316120000070/v-20200930.htm\n",
      "200\n",
      "doc_url https://www.sec.gov/ix?doc=/Archives/edgar/data/1403161/000140316119000050/v093019form10k.htm\n",
      "200\n"
     ]
    }
   ],
   "source": [
    "# get the last 5 10-K filings for Visa\n",
    "get_filings('V', '2017-01-01', '2024-12-31', '10-K', 5)"
   ]
  },
  {
   "cell_type": "code",
   "execution_count": 11,
   "metadata": {},
   "outputs": [],
   "source": [
    "# retrieve all the records from dynamodb\n",
    "\n",
    "dynamodb = boto3.resource('dynamodb')\n",
    "table = dynamodb.Table('filings')\n",
    "response = table.scan()\n",
    "items = response['Items']"
   ]
  },
  {
   "cell_type": "code",
   "execution_count": null,
   "metadata": {},
   "outputs": [],
   "source": [
    "# delete everything in the filings table\n",
    "response = table.scan()\n",
    "items = response['Items']\n",
    "for item in items:\n",
    "    table.delete_item(\n",
    "        Key={\n",
    "            'id': item['id']\n",
    "        }\n",
    "    )"
   ]
  },
  {
   "cell_type": "code",
   "execution_count": 35,
   "metadata": {},
   "outputs": [],
   "source": [
    "# delete all rows from the filings table where 'objectKey' is not present\n",
    "response = table.scan()\n",
    "items = response['Items']\n",
    "for item in items:\n",
    "    if 'objectKey' not in item:\n",
    "        table.delete_item(\n",
    "            Key={\n",
    "                'id': item['id']\n",
    "            }\n",
    "        )"
   ]
  },
  {
   "cell_type": "code",
   "execution_count": 7,
   "metadata": {},
   "outputs": [],
   "source": [
    "import boto3\n",
    "\n",
    "def retrieve_objects_from_s3(bucket_name, prefix=None):\n",
    "    # Create an S3 client\n",
    "    s3 = boto3.client('s3')\n",
    "\n",
    "    # Specify optional parameters for list_objects_v2\n",
    "    params = {'Bucket': bucket_name}\n",
    "    if prefix:\n",
    "        params['Prefix'] = prefix\n",
    "\n",
    "    # List objects in the S3 bucket\n",
    "    response = s3.list_objects_v2(**params)\n",
    "\n",
    "    # Retrieve object keys from the response\n",
    "    object_keys = [obj['Key'] for obj in response.get('Contents', [])]\n",
    "\n",
    "    return object_keys"
   ]
  },
  {
   "cell_type": "code",
   "execution_count": 9,
   "metadata": {},
   "outputs": [
    {
     "name": "stdout",
     "output_type": "stream",
     "text": [
      "KO/10-K/2024-02-20T13:21:24-05:00/0000021344-24-000009.pdf\n",
      "KO/10-Q/2023-07-27T11:49:13-04:00/0000021344-23-000048.pdf\n",
      "KO/10-Q/2023-10-24T14:46:01-04:00/0000021344-23-000060.pdf\n"
     ]
    }
   ],
   "source": [
    "bucket_name = '<removed bucket name>'\n",
    "prefix_filter = 'KO/'\n",
    "\n",
    "objects = retrieve_objects_from_s3(bucket_name, prefix=prefix_filter)\n",
    "for obj in objects:\n",
    "    print(obj)"
   ]
  },
  {
   "cell_type": "code",
   "execution_count": 10,
   "metadata": {},
   "outputs": [
    {
     "name": "stdout",
     "output_type": "stream",
     "text": [
      "KO/10-Q/2023-07-27T11:49:13-04:00/0000021344-23-000048.pdf\n",
      "KO/10-Q/2023-10-24T14:46:01-04:00/0000021344-23-000060.pdf\n"
     ]
    }
   ],
   "source": [
    "# Example usage:\n",
    "prefix_filter = 'KO/10-Q/'\n",
    "\n",
    "objects = retrieve_objects_from_s3(bucket_name, prefix=prefix_filter)\n",
    "for obj in objects:\n",
    "    print(obj)"
   ]
  },
  {
   "cell_type": "code",
   "execution_count": 15,
   "metadata": {},
   "outputs": [],
   "source": [
    "import boto3\n",
    "\n",
    "def generate_presigned_url(bucket_name, object_key, expiration=3600):\n",
    "    \"\"\"\n",
    "    Generate a presigned URL for downloading a file from S3.\n",
    "\n",
    "    Parameters:\n",
    "        - bucket_name (str): The name of the S3 bucket.\n",
    "        - object_key (str): The key of the object (file) in the S3 bucket.\n",
    "        - expiration (int): The time, in seconds, until the presigned URL expires. Default is 3600 seconds (1 hour).\n",
    "\n",
    "    Returns:\n",
    "        str: The presigned URL for downloading the file.\n",
    "    \"\"\"\n",
    "    s3 = boto3.client('s3')\n",
    "    \n",
    "    # Generate a presigned URL for the S3 object\n",
    "    presigned_url = s3.generate_presigned_url(\n",
    "        'get_object',\n",
    "        Params={\n",
    "            'Bucket': bucket_name,\n",
    "            'Key': object_key\n",
    "        },\n",
    "        ExpiresIn=expiration\n",
    "    )\n",
    "\n",
    "    return presigned_url"
   ]
  },
  {
   "cell_type": "code",
   "execution_count": null,
   "metadata": {},
   "outputs": [],
   "source": [
    "object_key = 'KO/10-Q/2023-07-27T11:49:13-04:00/0000021344-23-000048.pdf'\n",
    "presigned_url = generate_presigned_url(bucket_name, object_key)\n",
    "print(presigned_url)"
   ]
  },
  {
   "cell_type": "code",
   "execution_count": 42,
   "metadata": {},
   "outputs": [
    {
     "name": "stdout",
     "output_type": "stream",
     "text": [
      "GOOG\n",
      "ab95b122-d0d9-46ca-addc-5113ab5e20fa\n",
      "AXP\n",
      "b5fd3fb0-7318-41da-81e0-7b0b7d5ba730\n",
      "CMG\n",
      "812982ec-5bc7-4289-9353-e2e89ee65045\n",
      "GOOGL\n",
      "70124223-5ba4-45f2-9511-61a9c7b2d285\n",
      "GOOG\n",
      "81d9e6f2-e49e-4346-b2a1-a797788ef2f7\n",
      "ALL\n",
      "6e78720d-948d-41ad-b533-e1c4ef1b13bd\n",
      "CMG\n",
      "30fd3c32-d21e-448c-b01b-8e2a280acd04\n",
      "GOOGL\n",
      "35482695-7746-42e1-a6a9-0c4c93620442\n",
      "CMG\n",
      "7f56541b-4af3-4e6c-8a7e-cdcb48d5364e\n",
      "CMG\n",
      "97778461-3eed-4248-9f0d-db7de5405bf4\n",
      "CMG\n",
      "b983ecd9-7811-4ae5-9bfe-47fb2f0553a8\n",
      "CMG\n",
      "b5a40fe1-e18e-4d8b-a32a-f23f872ae85d\n",
      "GOOG\n",
      "7855da6b-8349-44fd-a948-50612cde7d3f\n",
      "GOOG\n",
      "62837236-8cff-4194-bb7c-594afb2e01a7\n",
      "CMG\n",
      "ed346837-455d-4557-8c52-393e701ee31e\n",
      "CMG\n",
      "7ea81351-c630-42de-b829-9aac97faa44c\n",
      "BX\n",
      "e3e7d53e-3ec3-408b-b076-da90f1f8cb49\n",
      "GOOG\n",
      "3ebed636-3e06-42ff-b32c-4f566000e02e\n",
      "GOOGL\n",
      "586dc888-71c2-4a36-8236-98179807c960\n",
      "BAC\n",
      "bc3ba707-cf3f-4275-9d2a-10d3177c9186\n",
      "AXP\n",
      "df4e867e-6fb5-455f-a106-e665edeef9ac\n",
      "GOOGL\n",
      "ce3696b0-8ce9-426b-8e43-fc47754604bf\n",
      "CMG\n",
      "124a55b2-3644-453c-8d83-3cc8a3c73364\n",
      "BAC\n",
      "77ce1860-f163-4dcd-9992-18c92b6afaf6\n",
      "CMG\n",
      "5e0ce3bd-acaf-4cae-86c1-6d0d88e7890b\n",
      "CMG\n",
      "d52af3f5-1b5a-4dc0-bca2-d07ab1a08802\n",
      "ALL\n",
      "18ed690b-a5f2-4916-b1e3-3bab3fe5d131\n",
      "CMG\n",
      "8aa6a48e-f4f9-48f4-aefc-e0a6e9596750\n",
      "CMG\n",
      "aace672c-4298-42a5-b20a-1eea79c93483\n",
      "BX\n",
      "23cb9e3f-e946-40a4-bf07-2149e8fe9377\n"
     ]
    }
   ],
   "source": [
    "dynamodb = boto3.resource('dynamodb', region_name='us-east-1')\n",
    "table = dynamodb.Table('filings')\n",
    "\n",
    "# get a single item randomly and print out the id\n",
    "\n",
    "response = table.scan()\n",
    "items = response['Items']\n",
    "for item in items:\n",
    "    print(item['ticker'])\n",
    "    print(item['id'])"
   ]
  },
  {
   "cell_type": "code",
   "execution_count": 44,
   "metadata": {},
   "outputs": [
    {
     "name": "stdout",
     "output_type": "stream",
     "text": [
      "{'forwardStatements': [{'sentiment': 'neutral', 'text': 'American Express cards issued by us, as well as by\\nthird-party banks and other institutions on the American Express network, can be used by Card Members to charge purchases at the\\nmillions of merchants around the world that accept cards bearing our logo.'}, {'sentiment': 'positive', 'text': 'We also seek to drive greater usage of the American Express network\\nby deepening merchant engagement and increasing Card Member awareness through initiatives such as our Shop Small campaigns\\nand expanding our payment options such as through debit and B2B capabilities.'}, {'sentiment': 'neutral', 'text': 'The current Delta\\ncobrand agreement runs through the end of 2029 and we expect to continue to make significant investments in this partnership.'}, {'sentiment': 'positive', 'text': 'Second, we seek to build on our strong position in commercial payments by evolving our card value propositions, further\\ndifferentiating our corporate card and accounts payable expense management solutions and designing innovative products and\\nfeatures, including financing, banking and payment solutions for our business customers.'}, {'sentiment': 'positive', 'text': 'Finally, we want to continue to build on our unique global position, seeking ways to use our differentiated business model and\\nglobal presence as we progress against our other strategic imperatives.'}, {'sentiment': 'neutral', 'text': 'Our total consolidated assets were $251 billion and $261 billion as of\\nSeptember 30 and December 31, 2023, respectively, and, accordingly, we anticipate becoming a Category III firm in 2024.'}, {'sentiment': 'neutral', 'text': 'A bank holding company’s SCB\\nrequirement is effective on October 1 of each year and will remain in effect through September 30 of the following year unless it is\\nreset in connection with resubmission of a capital plan, as discussed below.'}, {'sentiment': 'neutral', 'text': 'As a Category IV firm with less than $50 billion in weighted short-term wholesale funding, we are not\\ncurrently subject to a specific LCR or NSFR requirement; however, as described above, we anticipate becoming a Category III firm\\nin 2024.'}, {'sentiment': 'neutral', 'text': 'AENB continues to be required to prepare and provide a separate resolution plan to the FDIC that would enable the FDIC, as\\nreceiver, to effectively resolve AENB under the FDIA in the event of failure.'}, {'sentiment': 'neutral', 'text': 'The special\\nassessment will total approximately $53 million for us (which amount was recognized as an expense in the fourth quarter of 2023),\\nand will be paid over eight quarterly assessment periods, with the first quarterly assessment period beginning on January 1, 2024.'}, {'sentiment': 'neutral', 'text': 'Certain provisions of\\nthe final rule become effective on April 1, 2024, but the majority of the final rule’s operative provisions (including the revisions to\\nthe definition of “limited purpose bank”) become effective on January 1, 2026, with additional data collection and reporting\\nrequirements becoming effective on January 1, 2027.'}, {'sentiment': 'neutral', 'text': 'Based on our small business credit transaction volume, we will be\\nrequired to comply with this rule by October 1, 2024, subject to the outcome of litigation over the final rule.'}, {'sentiment': 'neutral', 'text': 'In order to compete in our industry, we need to continue to\\ninvest in technology across all areas of our business, including in transaction processing, data management and analytics, machine\\nlearning and artificial intelligence, customer interactions and communications, open banking and alternative payment and financing\\nmechanisms, authentication technologies and digital identification, tokenization, real-time settlement and risk management and\\ncompliance systems.'}, {'sentiment': 'positive', 'text': 'We have experienced higher delinquency and write-off rates for the year ended December 31, 2023, as compared to the year ended\\nDecember 31, 2022, and such rates are expected to continue to increase.'}, {'sentiment': 'neutral', 'text': 'Our definitive 2024\\nproxy statement for our Annual Meeting of Shareholders is expected to be filed with the SEC in March 2024 (and, in any\\nevent, not later than 120 days after the close of our most recently completed fiscal year).'}, {'sentiment': 'positive', 'text': 'We plan to continue to return to\\nshareholders the excess capital we generate while managing our CET1 capital ratio within our target range and supporting balance\\nsheet growth.'}, {'sentiment': 'positive', 'text': 'We also expect to increase the regular quarterly dividend on common shares outstanding by 17 percent beginning\\nwith the first quarter 2024 dividend declaration.'}, {'sentiment': 'neutral', 'text': 'The transaction is\\nsubject to customary closing conditions and is expected to close in the second quarter of 2024.'}, {'sentiment': 'neutral', 'text': 'Upon closing, we expect to\\nrecognize a sizeable pre-tax gain, which will be recorded as a reduction to Other expense and is expected to be substantially\\nreinvested back into our business.'}, {'sentiment': 'neutral', 'text': 'We seek to maintain capital levels and ratios in excess of our minimum regulatory requirements, specifically within a 10 to 11\\npercent target range for American Express Company’s Common Equity Tier 1 (CET1) risk-based capital ratio.'}, {'sentiment': 'neutral', 'text': 'We were not subject to the Federal Reserve’s supervisory stress tests in 2023 and will be participating in the Federal Reserve’s\\nsupervisory stress tests in 2024.'}, {'sentiment': 'positive', 'text': 'We plan to increase the regular quarterly dividend on our common shares outstanding by 17 percent, from 60 cents to 70 cents per\\nshare, beginning with the first quarter 2024 dividend declaration.'}, {'sentiment': 'neutral', 'text': 'In executing our funding plan, we aim to maintain a balanced debt maturity profile with an\\nappropriate mix of short-term and long-term refinancing requirements.'}, {'sentiment': 'positive', 'text': 'We believe our funding mix, including the\\nproportion of U.S. retail deposits insured by the FDIC to total funding, should reduce the impact that credit rating downgrades\\nwould have on our funding capacity and costs.'}, {'sentiment': 'neutral', 'text': 'Additionally, we anticipate becoming a Category III firm in 2024 and thus being subject to the\\nregulatory requirements under LCR and NSFR rules.'}, {'sentiment': 'neutral', 'text': 'Other Sources of Liquidity\\n\\nIn addition to cash and other liquid assets and the secured borrowing facilities and committed bank credit facility described above,\\nas an insured depository institution, AENB may borrow from the Federal Reserve Bank of San Francisco through the discount\\nwindow against the U.S. credit card loans and charge card receivables that it pledged.'}, {'sentiment': 'negative', 'text': 'With respect to anticipated earnings\\ndenominated in foreign currencies for the next twelve months, the adverse impact on pretax income of a hypothetical 10 percent\\nstrengthening of the U.S. dollar would be approximately $242 million as of December 31, 2023.'}, {'sentiment': 'positive', 'text': 'As discussed in more detail under\\n“Supervision and Regulation — Enhanced Prudential Standards” and “— Capital and Liquidity Regulation” under “Business,” we\\nanticipate becoming a Category III firm in 2024 under U.S. federal bank regulatory agencies’ rules that tailor the application of\\nenhanced prudential standards, which would result in heightened capital, liquidity and prudential requirements, including more\\nstringent liquidity risk management requirements.'}, {'sentiment': 'neutral', 'text': 'As of December 31, 2023, an increase in the\\nestimated URR of current enrollees of 25 basis points would increase the Membership Rewards liability and corresponding rewards\\nexpense by approximately $179 million.'}, {'sentiment': 'neutral', 'text': 'For other intangible assets on the Consolidated Balance Sheets as of December 31, 2023, amortization expense is\\nexpected to be $44 million in 2024, $21 million in 2025, $11 million in 2026, $9 million in 2027, $4 million in 2028 and $8 million\\nthereafter.'}, {'sentiment': 'neutral', 'text': 'The facility has a maturity date of October 30, 2026, and\\nthe availability of the facility is subject to compliance with certain covenants, principally our maintenance of a minimum Common\\nEquity Tier 1 (CET1) risk-based capital ratio of 4.5 percent, with certain restrictions in relation to either accessing the facility or\\ndistributing capital to common shareholders in the event our CET1 risk-based capital ratio falls between 4.5 percent and 6.5\\npercent.'}, {'sentiment': 'neutral', 'text': 'We may redeem the outstanding series of preferred shares at $1 million per\\npreferred share (equivalent to $1,000 per depositary share) plus any declared but unpaid dividends in whole or in part, from time to\\ntime, on any dividend payment date on or after the earliest redemption date, or in whole, but not in part, within 90 days of certain\\nbank regulatory changes.'}, {'sentiment': 'neutral', 'text': 'If not utilized, certain U.S. federal and non-U.S. NOL carryforwards will expire\\nbetween 2024 and 2034, whereas others have an unlimited carryforward period.'}, {'sentiment': 'neutral', 'text': 'The FTC carryforwards will expire between 2030\\nand 2034.'}, {'sentiment': 'neutral', 'text': 'DIRECTORS, EXECUTIVE OFFICERS AND CORPORATE\\nGOVERNANCE; EXECUTIVE COMPENSATION; SECURITY\\nOWNERSHIP OF CERTAIN BENEFICIAL OWNERS AND\\nMANAGEMENT AND RELATED STOCKHOLDER MATTERS;\\nCERTAIN RELATIONSHIPS AND RELATED TRANSACTIONS, AND\\nDIRECTOR INDEPENDENCE\\n\\nWe expect to file with the SEC in March 2024 (and, in any event, not later than 120 days after the close of our last fiscal year), a\\ndefinitive proxy statement, pursuant to SEC Regulation 14A in connection with our Annual Meeting of Shareholders to be held\\nMay 6, 2024, which involves the election of directors.'}, {'sentiment': 'neutral', 'text': 'We also intend to disclose any amendments to our Code of Conduct, or waivers of our Code of\\nConduct on behalf of our Chief Executive Officer, Chief Financial Officer or Controller, on our website.'}, {'sentiment': 'neutral', 'text': 'However, many of our Card Members will revolve\\n\\ntheir balances, which may extend their repayment period beyond one year for balances outstanding as of December 31, 2023.'}], 'neutralCount': Decimal('27'), 'positiveCount': Decimal('9'), 'negativeCount': Decimal('1')}\n"
     ]
    },
    {
     "ename": "KeyError",
     "evalue": "'forwardStatementSentiment'",
     "output_type": "error",
     "traceback": [
      "\u001b[1;31m---------------------------------------------------------------------------\u001b[0m",
      "\u001b[1;31mKeyError\u001b[0m                                  Traceback (most recent call last)",
      "\u001b[1;32m~\\AppData\\Local\\Temp/ipykernel_22748/376550493.py\u001b[0m in \u001b[0;36m<module>\u001b[1;34m\u001b[0m\n\u001b[0;32m     18\u001b[0m \u001b[1;33m\u001b[0m\u001b[0m\n\u001b[0;32m     19\u001b[0m \u001b[1;33m\u001b[0m\u001b[0m\n\u001b[1;32m---> 20\u001b[1;33m \u001b[0mcmg_foward_looking_statement_sentiments\u001b[0m \u001b[1;33m=\u001b[0m \u001b[0mget_forward_looking_statement_sentiments\u001b[0m\u001b[1;33m(\u001b[0m\u001b[0mcmg_form_id\u001b[0m\u001b[1;33m)\u001b[0m\u001b[1;33m\u001b[0m\u001b[1;33m\u001b[0m\u001b[0m\n\u001b[0m\u001b[0;32m     21\u001b[0m \u001b[0mprint\u001b[0m\u001b[1;33m(\u001b[0m\u001b[0mcmg_foward_looking_statement_sentiments\u001b[0m\u001b[1;33m)\u001b[0m\u001b[1;33m\u001b[0m\u001b[1;33m\u001b[0m\u001b[0m\n",
      "\u001b[1;32m~\\AppData\\Local\\Temp/ipykernel_22748/376550493.py\u001b[0m in \u001b[0;36mget_forward_looking_statement_sentiments\u001b[1;34m(form_id)\u001b[0m\n\u001b[0;32m      8\u001b[0m         }\n\u001b[0;32m      9\u001b[0m     )\n\u001b[1;32m---> 10\u001b[1;33m     \u001b[0mforward_looking_statement_sentiments\u001b[0m \u001b[1;33m=\u001b[0m \u001b[0mresponse\u001b[0m\u001b[1;33m[\u001b[0m\u001b[1;34m'Item'\u001b[0m\u001b[1;33m]\u001b[0m\u001b[1;33m[\u001b[0m\u001b[1;34m'forwardStatementSentiment'\u001b[0m\u001b[1;33m]\u001b[0m\u001b[1;33m\u001b[0m\u001b[1;33m\u001b[0m\u001b[0m\n\u001b[0m\u001b[0;32m     11\u001b[0m     \u001b[1;32mreturn\u001b[0m \u001b[0mforward_looking_statement_sentiments\u001b[0m\u001b[1;33m\u001b[0m\u001b[1;33m\u001b[0m\u001b[0m\n\u001b[0;32m     12\u001b[0m \u001b[1;33m\u001b[0m\u001b[0m\n",
      "\u001b[1;31mKeyError\u001b[0m: 'forwardStatementSentiment'"
     ]
    }
   ],
   "source": [
    "dynamodb = boto3.resource('dynamodb', region_name='us-east-1')\n",
    "table = dynamodb.Table('filings')\n",
    "\n",
    "def get_forward_looking_statement_sentiments(form_id):\n",
    "    response = table.get_item(\n",
    "        Key={\n",
    "            'id': form_id\n",
    "        }\n",
    "    )\n",
    "    forward_looking_statement_sentiments = response['Item']['forwardStatementSentiment']\n",
    "    return forward_looking_statement_sentiments\n",
    "\n",
    "axp_form_id = 'b5fd3fb0-7318-41da-81e0-7b0b7d5ba730'\n",
    "cmg_form_id = 'aace672c-4298-42a5-b20a-1eea79c93483'\n",
    "\n",
    "axp_forward_looking_statement_sentiments = get_forward_looking_statement_sentiments(axp_form_id)\n",
    "print(axp_forward_looking_statement_sentiments)\n",
    "\n",
    "\n",
    "cmg_foward_looking_statement_sentiments = get_forward_looking_statement_sentiments(cmg_form_id)\n",
    "print(cmg_foward_looking_statement_sentiments)"
   ]
  },
  {
   "cell_type": "code",
   "execution_count": null,
   "metadata": {},
   "outputs": [],
   "source": []
  }
 ],
 "metadata": {
  "kernelspec": {
   "display_name": "Python 3",
   "language": "python",
   "name": "python3"
  },
  "language_info": {
   "codemirror_mode": {
    "name": "ipython",
    "version": 3
   },
   "file_extension": ".py",
   "mimetype": "text/x-python",
   "name": "python",
   "nbconvert_exporter": "python",
   "pygments_lexer": "ipython3",
   "version": "3.10.0"
  }
 },
 "nbformat": 4,
 "nbformat_minor": 2
}
